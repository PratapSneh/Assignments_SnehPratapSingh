{
 "cells": [
  {
   "cell_type": "markdown",
   "id": "9297b12e",
   "metadata": {},
   "source": [
    "# Mocktest_01 Remaining Question\n"
   ]
  },
  {
   "cell_type": "markdown",
   "id": "dd6272e4",
   "metadata": {},
   "source": [
    "17. Write a function that takes a list of numbers as input and returns a new list containing only the even numbers from the input list. Use list comprehension to solve this problem.\n",
    "\n",
    "Example:\n",
    "\n",
    "Input: [1, 2, 3, 4, 5, 6, 7, 8, 9, 10]\n",
    "\n",
    "Output: [2, 4, 6, 8, 10]\n",
    "\n",
    "Ans. "
   ]
  },
  {
   "cell_type": "code",
   "execution_count": 3,
   "id": "69cc9d27",
   "metadata": {},
   "outputs": [
    {
     "name": "stdout",
     "output_type": "stream",
     "text": [
      "Input : [1, 2, 3, 4, 5, 6, 7, 8, 9, 10]\n",
      "Output:  [2, 4, 6, 8, 10]\n"
     ]
    }
   ],
   "source": [
    "Input_List= [1, 2, 3, 4, 5, 6, 7, 8, 9, 10]\n",
    "print(\"Input :\", Input_List)\n",
    "\n",
    "even= [i for i in Input_List if i%2==0]\n",
    "print(\"Output: \", even)"
   ]
  },
  {
   "cell_type": "markdown",
   "id": "ef35ede1",
   "metadata": {},
   "source": [
    "18. Implement a decorator function called ‘timer’ that measures the execution time of a function. The ‘timer’ decorator should print the time taken by the decorated function to execute. Use the ‘time’ module in Python to calculate the execution time.\n",
    "\n",
    "Example:\n",
    "\n",
    "import time\n",
    "\n",
    "@timer\n",
    "def my_function():\n",
    "    # Function code goes here\n",
    "    time.sleep(2)\n",
    "\n",
    "my_function()\n",
    "\n",
    "Output:\n",
    "\"Execution time: 2.00123 seconds\""
   ]
  },
  {
   "cell_type": "code",
   "execution_count": 12,
   "id": "d8fe15c3",
   "metadata": {},
   "outputs": [
    {
     "name": "stdout",
     "output_type": "stream",
     "text": [
      "Function executed in 0.0000s\n",
      "Function executed in 0.1065s\n"
     ]
    }
   ],
   "source": [
    "from time import time\n",
    "\n",
    "def timer(func):\n",
    "    #will show the execution time\n",
    "    def wrap_func(*args,**kwargs):\n",
    "        t1=time()\n",
    "        result=func(*args,**kwargs)\n",
    "        t2=time()\n",
    "        print(f\"Function executed in {(t2-t1):.4f}s\")\n",
    "        return result\n",
    "    return wrap_func\n",
    "\n",
    "@timer\n",
    "def squire(n):\n",
    "    return n*n\n",
    "\n",
    "\n",
    "@timer\n",
    "def mul(n):\n",
    "    for i in range(n):\n",
    "        for j in range(10000):\n",
    "            1*j\n",
    "            \n",
    "squire(99)\n",
    "mul(78)\n",
    "        \n",
    "        \n",
    "        "
   ]
  },
  {
   "cell_type": "markdown",
   "id": "05295040",
   "metadata": {},
   "source": [
    "19. Write a function called ‘calculate_mean’ that takes a list of numbers as input and returns the mean (average) of the numbers. The function should calculate the mean using the sum of the numbers divided by the total count.\n",
    "\n",
    "Example:\n",
    "\n",
    "def calculate_mean(numbers):\n",
    "    total = sum(numbers)\n",
    "    count = len(numbers)\n",
    "    mean = total / count\n",
    "    return mean\n",
    "\n",
    "data = [10, 15, 20, 25, 30]\n",
    "mean_value = calculate_mean(data)\n",
    "print(\"Mean:\", mean_value)\n",
    "\n",
    "Output:\n",
    "Mean: 20.0\n",
    "\n",
    "Ans.\n"
   ]
  },
  {
   "cell_type": "code",
   "execution_count": 31,
   "id": "15dbae37",
   "metadata": {},
   "outputs": [
    {
     "name": "stdout",
     "output_type": "stream",
     "text": [
      "Mean: 20.0\n"
     ]
    }
   ],
   "source": [
    "def calculate_mean(numbers):\n",
    "    total=0\n",
    "    for i in range(len(numbers)):\n",
    "        total = total+numbers[i]\n",
    "    mean=total/len(numbers)\n",
    "    return mean\n",
    "  \n",
    "\n",
    "data=[10,15,20,25,30]\n",
    "mean_value=calculate_mean(data)\n",
    "print(\"Mean:\",mean_value)"
   ]
  },
  {
   "cell_type": "markdown",
   "id": "40e6ba5f",
   "metadata": {},
   "source": [
    "20. Write a function called ‘perform_hypothesis_test’ that takes two lists of numbers as input, representing two samples. The function should perform a two-sample t-test and return the p-value. Use the ‘scipy.stats’ module in Python to calculate the t-test and p-value.\n",
    "\n",
    "Example:\n",
    "\n",
    "from scipy import stats\n",
    "\n",
    "def perform_hypothesis_test(sample1, sample2):\n",
    "    t_statistic, p_value = stats.ttest_ind(sample1, sample2)\n",
    "    return p_value\n",
    "\n",
    "sample1 = [5, 10, 15, 20, 25]\n",
    "sample2 = [10, 20, 30, 40, 50]\n",
    "p_value = perform_hypothesis_test(sample1, sample2)\n",
    "print(\"P-value:\", p_value)\n",
    "\n",
    "Output:\n",
    "P-value: 0.1064706396450037\n",
    "\n",
    "Ans."
   ]
  },
  {
   "cell_type": "code",
   "execution_count": 33,
   "id": "ed6e6aeb",
   "metadata": {},
   "outputs": [
    {
     "name": "stdout",
     "output_type": "stream",
     "text": [
      "P-value: 0.09434977284243756\n"
     ]
    }
   ],
   "source": [
    "from scipy import stats\n",
    "def perform_hypothesis_test(sample1, sample2):\n",
    "    t_statistic, p_value = stats.ttest_ind(sample1, sample2)\n",
    "    return p_value\n",
    "\n",
    "sample1=[5,10,15,20,25]\n",
    "sample2=[10,20,30,40,50]\n",
    "\n",
    "p_val = perform_hypothesis_test(sample1, sample2)\n",
    "print(\"P-value:\", p_val)"
   ]
  },
  {
   "cell_type": "code",
   "execution_count": null,
   "id": "7c05d73c",
   "metadata": {},
   "outputs": [],
   "source": []
  }
 ],
 "metadata": {
  "kernelspec": {
   "display_name": "Python 3 (ipykernel)",
   "language": "python",
   "name": "python3"
  },
  "language_info": {
   "codemirror_mode": {
    "name": "ipython",
    "version": 3
   },
   "file_extension": ".py",
   "mimetype": "text/x-python",
   "name": "python",
   "nbconvert_exporter": "python",
   "pygments_lexer": "ipython3",
   "version": "3.9.13"
  }
 },
 "nbformat": 4,
 "nbformat_minor": 5
}
